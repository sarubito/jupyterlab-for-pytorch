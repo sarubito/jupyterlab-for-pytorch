{
 "cells": [
  {
   "cell_type": "code",
   "execution_count": 1,
   "id": "3c9ac702-9025-4942-9bdb-932bc076c751",
   "metadata": {},
   "outputs": [
    {
     "data": {
      "text/plain": [
       "['/root/workspace/torch',\n",
       " '/root/anaconda3/envs/torch/lib/python38.zip',\n",
       " '/root/anaconda3/envs/torch/lib/python3.8',\n",
       " '/root/anaconda3/envs/torch/lib/python3.8/lib-dynload',\n",
       " '',\n",
       " '/root/anaconda3/envs/torch/lib/python3.8/site-packages']"
      ]
     },
     "execution_count": 1,
     "metadata": {},
     "output_type": "execute_result"
    }
   ],
   "source": [
    "import sys\n",
    "sys.path"
   ]
  },
  {
   "cell_type": "code",
   "execution_count": 1,
   "id": "10153221-8943-4109-8cc2-854d0d3b98f5",
   "metadata": {},
   "outputs": [
    {
     "name": "stdout",
     "output_type": "stream",
     "text": [
      "1.10.1\n"
     ]
    }
   ],
   "source": [
    "import torch\n",
    "print(torch.__version__)"
   ]
  },
  {
   "cell_type": "code",
   "execution_count": null,
   "id": "a35e131c-3f16-4af2-91c9-3a0b93f46116",
   "metadata": {},
   "outputs": [],
   "source": [
    "torch.cuda."
   ]
  }
 ],
 "metadata": {
  "kernelspec": {
   "display_name": "Python 3 (ipykernel)",
   "language": "python",
   "name": "python3"
  },
  "language_info": {
   "codemirror_mode": {
    "name": "ipython",
    "version": 3
   },
   "file_extension": ".py",
   "mimetype": "text/x-python",
   "name": "python",
   "nbconvert_exporter": "python",
   "pygments_lexer": "ipython3",
   "version": "3.8.13"
  }
 },
 "nbformat": 4,
 "nbformat_minor": 5
}
